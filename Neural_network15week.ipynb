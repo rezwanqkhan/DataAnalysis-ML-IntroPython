{
  "nbformat": 4,
  "nbformat_minor": 0,
  "metadata": {
    "colab": {
      "provenance": [],
      "authorship_tag": "ABX9TyO2kL4JYhfmGbW1l5U2s+Hz",
      "include_colab_link": true
    },
    "kernelspec": {
      "name": "python3",
      "display_name": "Python 3"
    },
    "language_info": {
      "name": "python"
    }
  },
  "cells": [
    {
      "cell_type": "markdown",
      "metadata": {
        "id": "view-in-github",
        "colab_type": "text"
      },
      "source": [
        "<a href=\"https://colab.research.google.com/github/rezwanqkhan/DataAnalysis-ML-IntroPython/blob/main/Neural_network15week.ipynb\" target=\"_parent\"><img src=\"https://colab.research.google.com/assets/colab-badge.svg\" alt=\"Open In Colab\"/></a>"
      ]
    },
    {
      "cell_type": "code",
      "execution_count": null,
      "metadata": {
        "id": "1JAmHn8MY3Rx"
      },
      "outputs": [],
      "source": [
        "from keras.models import Sequential\n",
        "from keras.layers import Dense\n",
        "import numpy\n",
        "import pandas as pd #import pandas library\n",
        "seed = 33\n",
        "numpy.random.seed(seed)\n",
        "#dataset link https://github.com/plotly/datasets/blob/master/diabetes.csv\n",
        "dataset = numpy.loadtxt(\"diabetes.csv\", delimiter = \",\", skiprows=1) #skip the header row\n",
        "\n",
        "# print(dataset[0])\n",
        "# df = pd.DataFrame(dataset) #convert numpy array to a pandas DataFrame\n",
        "# df.head() #use the head() function on the pandas DataFrame\n",
        "\n",
        "X = dataset[:,0:8]\n",
        "Y = dataset[:,8]\n",
        "# in Y  1 sick 0 is not sick\n",
        "# print(Y)"
      ]
    },
    {
      "cell_type": "code",
      "source": [
        "from keras.models import Sequential\n",
        "from keras.layers import Dense\n",
        "\n",
        "# Initialize the model\n",
        "model = Sequential()\n",
        "\n",
        "# Add the first hidden layer with 12 neurons, input dimension of 8, uniform kernel initializer, and ReLU activation function\n",
        "model.add(Dense(12, input_dim=8, kernel_initializer='uniform', activation='relu'))\n",
        "\n",
        "# Add the second hidden layer with 8 neurons, uniform kernel initializer, and ReLU activation function\n",
        "model.add(Dense(8, kernel_initializer='uniform', activation='relu'))\n",
        "\n",
        "# Add the output layer with 1 neuron, uniform kernel initializer, and sigmoid activation function\n",
        "model.add(Dense(1, kernel_initializer='uniform', activation='sigmoid'))\n",
        "\n",
        "# Compile the model with binary crossentropy loss function and adam optimizer\n",
        "model.compile(loss='binary_crossentropy', optimizer='adam')\n",
        "\n",
        "# Fit the model to the training data\n",
        "model.fit(X, Y, epochs=10, batch_size=10)\n",
        "\n",
        "# Evaluate the model on the training data\n",
        "scores = model.evaluate(X, Y)\n",
        "\n",
        "# Print the evaluation scores\n",
        "print(scores)\n"
      ],
      "metadata": {
        "colab": {
          "base_uri": "https://localhost:8080/"
        },
        "id": "85F2LpVObiE5",
        "outputId": "e4f8e68e-4a7c-4c45-ce2b-f5c05dc05064"
      },
      "execution_count": null,
      "outputs": [
        {
          "output_type": "stream",
          "name": "stdout",
          "text": [
            "Epoch 1/10\n",
            "77/77 [==============================] - 1s 2ms/step - loss: 0.6804\n",
            "Epoch 2/10\n",
            "77/77 [==============================] - 0s 2ms/step - loss: 0.6657\n",
            "Epoch 3/10\n",
            "77/77 [==============================] - 0s 2ms/step - loss: 0.6582\n",
            "Epoch 4/10\n",
            "77/77 [==============================] - 0s 2ms/step - loss: 0.6471\n",
            "Epoch 5/10\n",
            "77/77 [==============================] - 0s 2ms/step - loss: 0.6398\n",
            "Epoch 6/10\n",
            "77/77 [==============================] - 0s 2ms/step - loss: 0.6261\n",
            "Epoch 7/10\n",
            "77/77 [==============================] - 0s 2ms/step - loss: 0.6130\n",
            "Epoch 8/10\n",
            "77/77 [==============================] - 0s 2ms/step - loss: 0.6023\n",
            "Epoch 9/10\n",
            "77/77 [==============================] - 0s 2ms/step - loss: 0.6022\n",
            "Epoch 10/10\n",
            "77/77 [==============================] - 0s 2ms/step - loss: 0.5967\n",
            "24/24 [==============================] - 0s 1ms/step - loss: 0.5848\n",
            "0.5848221182823181\n"
          ]
        }
      ]
    },
    {
      "cell_type": "code",
      "source": [
        "yeni_kisi = numpy.array([5, 120, 75, 0, 43, 1, 0.5, 40]).reshape(1,8)\n",
        "# lets give this to neural if this one sick or not\n",
        "cvab = model.predict(yeni_kisi)\n",
        "# print(cvab)\n",
        "sonuc = float(cvab[0])\n",
        "if round(sonuc) ==1:\n",
        "  print(\"yeni kisi diyabet hastasi\")\n",
        "else:\n",
        "  print(\"yeni kisi hasta degil\")"
      ],
      "metadata": {
        "colab": {
          "base_uri": "https://localhost:8080/"
        },
        "id": "-0oro7Bbemby",
        "outputId": "acef2c46-e5ad-4c89-cc24-ec9020020366"
      },
      "execution_count": null,
      "outputs": [
        {
          "output_type": "stream",
          "name": "stdout",
          "text": [
            "1/1 [==============================] - 0s 29ms/step\n",
            "yeni kisi hasta degil\n"
          ]
        },
        {
          "output_type": "stream",
          "name": "stderr",
          "text": [
            "<ipython-input-32-59754bd00c17>:5: DeprecationWarning: Conversion of an array with ndim > 0 to a scalar is deprecated, and will error in future. Ensure you extract a single element from your array before performing this operation. (Deprecated NumPy 1.25.)\n",
            "  sonuc = float(cvab[0])\n"
          ]
        }
      ]
    }
  ]
}